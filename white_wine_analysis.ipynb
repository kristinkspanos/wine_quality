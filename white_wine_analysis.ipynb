{
 "cells": [
  {
   "cell_type": "markdown",
   "id": "8976791f",
   "metadata": {},
   "source": [
    "# Using linear regression to determine wine quality"
   ]
  },
  {
   "cell_type": "markdown",
   "id": "1b7505c6",
   "metadata": {},
   "source": [
    "## Import data and modules"
   ]
  },
  {
   "cell_type": "code",
   "execution_count": 178,
   "id": "8096da63",
   "metadata": {},
   "outputs": [],
   "source": [
    "import pandas as pd\n",
    "import matplotlib.pyplot as plt\n",
    "import seaborn as sns\n",
    "\n",
    "from sklearn.model_selection import train_test_split\n",
    "from sklearn import linear_model\n",
    "from sklearn.linear_model import LinearRegression"
   ]
  },
  {
   "cell_type": "code",
   "execution_count": 179,
   "id": "d37b72a8",
   "metadata": {},
   "outputs": [],
   "source": [
    "white_wine = pd.read_csv('winequality-white.csv')"
   ]
  },
  {
   "cell_type": "markdown",
   "id": "ccb2c6d1",
   "metadata": {},
   "source": [
    "## Inspect and clean data"
   ]
  },
  {
   "cell_type": "code",
   "execution_count": 180,
   "id": "3567fe56",
   "metadata": {},
   "outputs": [
    {
     "data": {
      "text/html": [
       "<div>\n",
       "<style scoped>\n",
       "    .dataframe tbody tr th:only-of-type {\n",
       "        vertical-align: middle;\n",
       "    }\n",
       "\n",
       "    .dataframe tbody tr th {\n",
       "        vertical-align: top;\n",
       "    }\n",
       "\n",
       "    .dataframe thead th {\n",
       "        text-align: right;\n",
       "    }\n",
       "</style>\n",
       "<table border=\"1\" class=\"dataframe\">\n",
       "  <thead>\n",
       "    <tr style=\"text-align: right;\">\n",
       "      <th></th>\n",
       "      <th>fixed acidity;\"volatile acidity\";\"citric acid\";\"residual sugar\";\"chlorides\";\"free sulfur dioxide\";\"total sulfur dioxide\";\"density\";\"pH\";\"sulphates\";\"alcohol\";\"quality\"</th>\n",
       "    </tr>\n",
       "  </thead>\n",
       "  <tbody>\n",
       "    <tr>\n",
       "      <th>0</th>\n",
       "      <td>7;0.27;0.36;20.7;0.045;45;170;1.001;3;0.45;8.8;6</td>\n",
       "    </tr>\n",
       "    <tr>\n",
       "      <th>1</th>\n",
       "      <td>6.3;0.3;0.34;1.6;0.049;14;132;0.994;3.3;0.49;9...</td>\n",
       "    </tr>\n",
       "    <tr>\n",
       "      <th>2</th>\n",
       "      <td>8.1;0.28;0.4;6.9;0.05;30;97;0.9951;3.26;0.44;1...</td>\n",
       "    </tr>\n",
       "    <tr>\n",
       "      <th>3</th>\n",
       "      <td>7.2;0.23;0.32;8.5;0.058;47;186;0.9956;3.19;0.4...</td>\n",
       "    </tr>\n",
       "    <tr>\n",
       "      <th>4</th>\n",
       "      <td>7.2;0.23;0.32;8.5;0.058;47;186;0.9956;3.19;0.4...</td>\n",
       "    </tr>\n",
       "  </tbody>\n",
       "</table>\n",
       "</div>"
      ],
      "text/plain": [
       "  fixed acidity;\"volatile acidity\";\"citric acid\";\"residual sugar\";\"chlorides\";\"free sulfur dioxide\";\"total sulfur dioxide\";\"density\";\"pH\";\"sulphates\";\"alcohol\";\"quality\"\n",
       "0   7;0.27;0.36;20.7;0.045;45;170;1.001;3;0.45;8.8;6                                                                                                                     \n",
       "1  6.3;0.3;0.34;1.6;0.049;14;132;0.994;3.3;0.49;9...                                                                                                                     \n",
       "2  8.1;0.28;0.4;6.9;0.05;30;97;0.9951;3.26;0.44;1...                                                                                                                     \n",
       "3  7.2;0.23;0.32;8.5;0.058;47;186;0.9956;3.19;0.4...                                                                                                                     \n",
       "4  7.2;0.23;0.32;8.5;0.058;47;186;0.9956;3.19;0.4...                                                                                                                     "
      ]
     },
     "execution_count": 180,
     "metadata": {},
     "output_type": "execute_result"
    }
   ],
   "source": [
    "white_wine.head()"
   ]
  },
  {
   "cell_type": "code",
   "execution_count": 181,
   "id": "c245cf7b",
   "metadata": {},
   "outputs": [],
   "source": [
    "# all data is in one column; split data on ';'\n",
    "white_wine = white_wine['fixed acidity;\"volatile acidity\";\"citric acid\";\"residual sugar\";\"chlorides\";\"free sulfur dioxide\";\"total sulfur dioxide\";\"density\";\"pH\";\"sulphates\";\"alcohol\";\"quality\"'].str.split(\";\",expand=True)"
   ]
  },
  {
   "cell_type": "code",
   "execution_count": 182,
   "id": "4f5964c5",
   "metadata": {},
   "outputs": [
    {
     "data": {
      "text/html": [
       "<div>\n",
       "<style scoped>\n",
       "    .dataframe tbody tr th:only-of-type {\n",
       "        vertical-align: middle;\n",
       "    }\n",
       "\n",
       "    .dataframe tbody tr th {\n",
       "        vertical-align: top;\n",
       "    }\n",
       "\n",
       "    .dataframe thead th {\n",
       "        text-align: right;\n",
       "    }\n",
       "</style>\n",
       "<table border=\"1\" class=\"dataframe\">\n",
       "  <thead>\n",
       "    <tr style=\"text-align: right;\">\n",
       "      <th></th>\n",
       "      <th>0</th>\n",
       "      <th>1</th>\n",
       "      <th>2</th>\n",
       "      <th>3</th>\n",
       "      <th>4</th>\n",
       "      <th>5</th>\n",
       "      <th>6</th>\n",
       "      <th>7</th>\n",
       "      <th>8</th>\n",
       "      <th>9</th>\n",
       "      <th>10</th>\n",
       "      <th>11</th>\n",
       "    </tr>\n",
       "  </thead>\n",
       "  <tbody>\n",
       "    <tr>\n",
       "      <th>0</th>\n",
       "      <td>7</td>\n",
       "      <td>0.27</td>\n",
       "      <td>0.36</td>\n",
       "      <td>20.7</td>\n",
       "      <td>0.045</td>\n",
       "      <td>45</td>\n",
       "      <td>170</td>\n",
       "      <td>1.001</td>\n",
       "      <td>3</td>\n",
       "      <td>0.45</td>\n",
       "      <td>8.8</td>\n",
       "      <td>6</td>\n",
       "    </tr>\n",
       "    <tr>\n",
       "      <th>1</th>\n",
       "      <td>6.3</td>\n",
       "      <td>0.3</td>\n",
       "      <td>0.34</td>\n",
       "      <td>1.6</td>\n",
       "      <td>0.049</td>\n",
       "      <td>14</td>\n",
       "      <td>132</td>\n",
       "      <td>0.994</td>\n",
       "      <td>3.3</td>\n",
       "      <td>0.49</td>\n",
       "      <td>9.5</td>\n",
       "      <td>6</td>\n",
       "    </tr>\n",
       "    <tr>\n",
       "      <th>2</th>\n",
       "      <td>8.1</td>\n",
       "      <td>0.28</td>\n",
       "      <td>0.4</td>\n",
       "      <td>6.9</td>\n",
       "      <td>0.05</td>\n",
       "      <td>30</td>\n",
       "      <td>97</td>\n",
       "      <td>0.9951</td>\n",
       "      <td>3.26</td>\n",
       "      <td>0.44</td>\n",
       "      <td>10.1</td>\n",
       "      <td>6</td>\n",
       "    </tr>\n",
       "    <tr>\n",
       "      <th>3</th>\n",
       "      <td>7.2</td>\n",
       "      <td>0.23</td>\n",
       "      <td>0.32</td>\n",
       "      <td>8.5</td>\n",
       "      <td>0.058</td>\n",
       "      <td>47</td>\n",
       "      <td>186</td>\n",
       "      <td>0.9956</td>\n",
       "      <td>3.19</td>\n",
       "      <td>0.4</td>\n",
       "      <td>9.9</td>\n",
       "      <td>6</td>\n",
       "    </tr>\n",
       "    <tr>\n",
       "      <th>4</th>\n",
       "      <td>7.2</td>\n",
       "      <td>0.23</td>\n",
       "      <td>0.32</td>\n",
       "      <td>8.5</td>\n",
       "      <td>0.058</td>\n",
       "      <td>47</td>\n",
       "      <td>186</td>\n",
       "      <td>0.9956</td>\n",
       "      <td>3.19</td>\n",
       "      <td>0.4</td>\n",
       "      <td>9.9</td>\n",
       "      <td>6</td>\n",
       "    </tr>\n",
       "  </tbody>\n",
       "</table>\n",
       "</div>"
      ],
      "text/plain": [
       "    0     1     2     3      4   5    6       7     8     9     10 11\n",
       "0    7  0.27  0.36  20.7  0.045  45  170   1.001     3  0.45   8.8  6\n",
       "1  6.3   0.3  0.34   1.6  0.049  14  132   0.994   3.3  0.49   9.5  6\n",
       "2  8.1  0.28   0.4   6.9   0.05  30   97  0.9951  3.26  0.44  10.1  6\n",
       "3  7.2  0.23  0.32   8.5  0.058  47  186  0.9956  3.19   0.4   9.9  6\n",
       "4  7.2  0.23  0.32   8.5  0.058  47  186  0.9956  3.19   0.4   9.9  6"
      ]
     },
     "execution_count": 182,
     "metadata": {},
     "output_type": "execute_result"
    }
   ],
   "source": [
    "white_wine.head()"
   ]
  },
  {
   "cell_type": "code",
   "execution_count": 183,
   "id": "5c1c69c2",
   "metadata": {},
   "outputs": [],
   "source": [
    "# rename columns\n",
    "white_wine = white_wine.rename(columns={\n",
    "    0: \"fixed_acidity\", \n",
    "    1: 'volatile_acidity',\n",
    "    2: 'citric_acid',\n",
    "    3: 'residual_sugar',\n",
    "    4: 'chlorides',\n",
    "    5: 'free_sulfur_dioxide',\n",
    "    6: 'total_sulfur_dioxide',\n",
    "    7: 'density',\n",
    "    8: 'pH',\n",
    "    9: 'sulphates',\n",
    "    10: 'alcohol',\n",
    "    11: 'quality'\n",
    "    })"
   ]
  },
  {
   "cell_type": "code",
   "execution_count": 184,
   "id": "faf62bed",
   "metadata": {},
   "outputs": [],
   "source": [
    "# change dtypes from object to float\n",
    "white_wine = white_wine.apply(pd.to_numeric)"
   ]
  },
  {
   "cell_type": "code",
   "execution_count": 185,
   "id": "c599d49a",
   "metadata": {},
   "outputs": [
    {
     "data": {
      "text/html": [
       "<div>\n",
       "<style scoped>\n",
       "    .dataframe tbody tr th:only-of-type {\n",
       "        vertical-align: middle;\n",
       "    }\n",
       "\n",
       "    .dataframe tbody tr th {\n",
       "        vertical-align: top;\n",
       "    }\n",
       "\n",
       "    .dataframe thead th {\n",
       "        text-align: right;\n",
       "    }\n",
       "</style>\n",
       "<table border=\"1\" class=\"dataframe\">\n",
       "  <thead>\n",
       "    <tr style=\"text-align: right;\">\n",
       "      <th></th>\n",
       "      <th>fixed_acidity</th>\n",
       "      <th>volatile_acidity</th>\n",
       "      <th>citric_acid</th>\n",
       "      <th>residual_sugar</th>\n",
       "      <th>chlorides</th>\n",
       "      <th>free_sulfur_dioxide</th>\n",
       "      <th>total_sulfur_dioxide</th>\n",
       "      <th>density</th>\n",
       "      <th>pH</th>\n",
       "      <th>sulphates</th>\n",
       "      <th>alcohol</th>\n",
       "      <th>quality</th>\n",
       "    </tr>\n",
       "  </thead>\n",
       "  <tbody>\n",
       "    <tr>\n",
       "      <th>count</th>\n",
       "      <td>4898.000000</td>\n",
       "      <td>4898.000000</td>\n",
       "      <td>4898.000000</td>\n",
       "      <td>4898.000000</td>\n",
       "      <td>4898.000000</td>\n",
       "      <td>4898.000000</td>\n",
       "      <td>4898.000000</td>\n",
       "      <td>4898.000000</td>\n",
       "      <td>4898.000000</td>\n",
       "      <td>4898.000000</td>\n",
       "      <td>4898.000000</td>\n",
       "      <td>4898.000000</td>\n",
       "    </tr>\n",
       "    <tr>\n",
       "      <th>mean</th>\n",
       "      <td>6.854788</td>\n",
       "      <td>0.278241</td>\n",
       "      <td>0.334192</td>\n",
       "      <td>6.391415</td>\n",
       "      <td>0.045772</td>\n",
       "      <td>35.308085</td>\n",
       "      <td>138.360657</td>\n",
       "      <td>0.994027</td>\n",
       "      <td>3.188267</td>\n",
       "      <td>0.489847</td>\n",
       "      <td>10.514267</td>\n",
       "      <td>5.877909</td>\n",
       "    </tr>\n",
       "    <tr>\n",
       "      <th>std</th>\n",
       "      <td>0.843868</td>\n",
       "      <td>0.100795</td>\n",
       "      <td>0.121020</td>\n",
       "      <td>5.072058</td>\n",
       "      <td>0.021848</td>\n",
       "      <td>17.007137</td>\n",
       "      <td>42.498065</td>\n",
       "      <td>0.002991</td>\n",
       "      <td>0.151001</td>\n",
       "      <td>0.114126</td>\n",
       "      <td>1.230621</td>\n",
       "      <td>0.885639</td>\n",
       "    </tr>\n",
       "    <tr>\n",
       "      <th>min</th>\n",
       "      <td>3.800000</td>\n",
       "      <td>0.080000</td>\n",
       "      <td>0.000000</td>\n",
       "      <td>0.600000</td>\n",
       "      <td>0.009000</td>\n",
       "      <td>2.000000</td>\n",
       "      <td>9.000000</td>\n",
       "      <td>0.987110</td>\n",
       "      <td>2.720000</td>\n",
       "      <td>0.220000</td>\n",
       "      <td>8.000000</td>\n",
       "      <td>3.000000</td>\n",
       "    </tr>\n",
       "    <tr>\n",
       "      <th>25%</th>\n",
       "      <td>6.300000</td>\n",
       "      <td>0.210000</td>\n",
       "      <td>0.270000</td>\n",
       "      <td>1.700000</td>\n",
       "      <td>0.036000</td>\n",
       "      <td>23.000000</td>\n",
       "      <td>108.000000</td>\n",
       "      <td>0.991723</td>\n",
       "      <td>3.090000</td>\n",
       "      <td>0.410000</td>\n",
       "      <td>9.500000</td>\n",
       "      <td>5.000000</td>\n",
       "    </tr>\n",
       "    <tr>\n",
       "      <th>50%</th>\n",
       "      <td>6.800000</td>\n",
       "      <td>0.260000</td>\n",
       "      <td>0.320000</td>\n",
       "      <td>5.200000</td>\n",
       "      <td>0.043000</td>\n",
       "      <td>34.000000</td>\n",
       "      <td>134.000000</td>\n",
       "      <td>0.993740</td>\n",
       "      <td>3.180000</td>\n",
       "      <td>0.470000</td>\n",
       "      <td>10.400000</td>\n",
       "      <td>6.000000</td>\n",
       "    </tr>\n",
       "    <tr>\n",
       "      <th>75%</th>\n",
       "      <td>7.300000</td>\n",
       "      <td>0.320000</td>\n",
       "      <td>0.390000</td>\n",
       "      <td>9.900000</td>\n",
       "      <td>0.050000</td>\n",
       "      <td>46.000000</td>\n",
       "      <td>167.000000</td>\n",
       "      <td>0.996100</td>\n",
       "      <td>3.280000</td>\n",
       "      <td>0.550000</td>\n",
       "      <td>11.400000</td>\n",
       "      <td>6.000000</td>\n",
       "    </tr>\n",
       "    <tr>\n",
       "      <th>max</th>\n",
       "      <td>14.200000</td>\n",
       "      <td>1.100000</td>\n",
       "      <td>1.660000</td>\n",
       "      <td>65.800000</td>\n",
       "      <td>0.346000</td>\n",
       "      <td>289.000000</td>\n",
       "      <td>440.000000</td>\n",
       "      <td>1.038980</td>\n",
       "      <td>3.820000</td>\n",
       "      <td>1.080000</td>\n",
       "      <td>14.200000</td>\n",
       "      <td>9.000000</td>\n",
       "    </tr>\n",
       "  </tbody>\n",
       "</table>\n",
       "</div>"
      ],
      "text/plain": [
       "       fixed_acidity  volatile_acidity  citric_acid  residual_sugar  \\\n",
       "count    4898.000000       4898.000000  4898.000000     4898.000000   \n",
       "mean        6.854788          0.278241     0.334192        6.391415   \n",
       "std         0.843868          0.100795     0.121020        5.072058   \n",
       "min         3.800000          0.080000     0.000000        0.600000   \n",
       "25%         6.300000          0.210000     0.270000        1.700000   \n",
       "50%         6.800000          0.260000     0.320000        5.200000   \n",
       "75%         7.300000          0.320000     0.390000        9.900000   \n",
       "max        14.200000          1.100000     1.660000       65.800000   \n",
       "\n",
       "         chlorides  free_sulfur_dioxide  total_sulfur_dioxide      density  \\\n",
       "count  4898.000000          4898.000000           4898.000000  4898.000000   \n",
       "mean      0.045772            35.308085            138.360657     0.994027   \n",
       "std       0.021848            17.007137             42.498065     0.002991   \n",
       "min       0.009000             2.000000              9.000000     0.987110   \n",
       "25%       0.036000            23.000000            108.000000     0.991723   \n",
       "50%       0.043000            34.000000            134.000000     0.993740   \n",
       "75%       0.050000            46.000000            167.000000     0.996100   \n",
       "max       0.346000           289.000000            440.000000     1.038980   \n",
       "\n",
       "                pH    sulphates      alcohol      quality  \n",
       "count  4898.000000  4898.000000  4898.000000  4898.000000  \n",
       "mean      3.188267     0.489847    10.514267     5.877909  \n",
       "std       0.151001     0.114126     1.230621     0.885639  \n",
       "min       2.720000     0.220000     8.000000     3.000000  \n",
       "25%       3.090000     0.410000     9.500000     5.000000  \n",
       "50%       3.180000     0.470000    10.400000     6.000000  \n",
       "75%       3.280000     0.550000    11.400000     6.000000  \n",
       "max       3.820000     1.080000    14.200000     9.000000  "
      ]
     },
     "execution_count": 185,
     "metadata": {},
     "output_type": "execute_result"
    }
   ],
   "source": [
    "# examine summary statistics\n",
    "white_wine.describe()"
   ]
  },
  {
   "cell_type": "code",
   "execution_count": 186,
   "id": "7d0f3fda",
   "metadata": {},
   "outputs": [
    {
     "data": {
      "text/plain": [
       "fixed_acidity            68\n",
       "volatile_acidity        125\n",
       "citric_acid              87\n",
       "residual_sugar          310\n",
       "chlorides               160\n",
       "free_sulfur_dioxide     132\n",
       "total_sulfur_dioxide    251\n",
       "density                 890\n",
       "pH                      103\n",
       "sulphates                79\n",
       "alcohol                 103\n",
       "quality                   7\n",
       "dtype: int64"
      ]
     },
     "execution_count": 186,
     "metadata": {},
     "output_type": "execute_result"
    }
   ],
   "source": [
    "# examine number of unique values for each variable\n",
    "white_wine.nunique()"
   ]
  },
  {
   "cell_type": "markdown",
   "id": "87c45b45",
   "metadata": {},
   "source": [
    "## Explore data"
   ]
  },
  {
   "cell_type": "code",
   "execution_count": 187,
   "id": "578101a4",
   "metadata": {},
   "outputs": [],
   "source": [
    "#boxplot = white_wine.boxplot(column=['fixed_acidity'])"
   ]
  },
  {
   "cell_type": "code",
   "execution_count": 188,
   "id": "97d01a58",
   "metadata": {
    "scrolled": true
   },
   "outputs": [],
   "source": [
    "#boxplot = white_wine.boxplot(column=['volatile_acidity', 'citric_acid'])"
   ]
  },
  {
   "cell_type": "code",
   "execution_count": 189,
   "id": "73dd6e86",
   "metadata": {
    "scrolled": true
   },
   "outputs": [],
   "source": [
    "#boxplot = white_wine.boxplot(column=['residual_sugar'])"
   ]
  },
  {
   "cell_type": "markdown",
   "id": "cd6e3fe7",
   "metadata": {},
   "source": [
    "## Explore relationships between variables"
   ]
  },
  {
   "cell_type": "code",
   "execution_count": 191,
   "id": "50ced3f6",
   "metadata": {},
   "outputs": [],
   "source": [
    "# create correlation matric\n",
    "corr = white_wine.corr()"
   ]
  },
  {
   "cell_type": "code",
   "execution_count": 192,
   "id": "1a5573d1",
   "metadata": {},
   "outputs": [
    {
     "data": {
      "image/png": "[encoded data removed]",
      "text/plain": [
       "<Figure size 1152x720 with 2 Axes>"
      ]
     },
     "metadata": {
      "needs_background": "light"
     },
     "output_type": "display_data"
    }
   ],
   "source": [
    "# create heatmap\n",
    "plt.figure(figsize=(16, 10))\n",
    "heatmap = sns.heatmap(corr, vmin=-1, vmax=1,cmap=\"PiYG\", annot=True)\n",
    "heatmap.set_title('Correlation Heatmap', fontdict={'fontsize':12}, pad=12);"
   ]
  },
  {
   "cell_type": "code",
   "execution_count": 193,
   "id": "69eabcdb",
   "metadata": {},
   "outputs": [],
   "source": [
    "# define function to get top pairwise correlations\n",
    "# function adapted from from stackoverflow: https://stackoverflow.com/questions/17778394/list-highest-correlation-pairs-from-a-large-correlation-matrix-in-pandas\n",
    "\n",
    "def get_redundant_pairs(white_wine_numeric):\n",
    "    '''Get diagonal and lower triangular pairs of correlation matrix'''\n",
    "    pairs_to_drop = set()\n",
    "    cols = white_wine_numeric.columns\n",
    "    for i in range(0, white_wine_numeric.shape[1]):\n",
    "        for j in range(0, i+1):\n",
    "            pairs_to_drop.add((cols[i], cols[j]))\n",
    "    return pairs_to_drop\n",
    "\n",
    "def get_correlations(df):\n",
    "    au_corr = white_wine_numeric.corr().abs().unstack()\n",
    "    labels_to_drop = get_redundant_pairs(df)\n",
    "    au_corr = au_corr.drop(labels=labels_to_drop).sort_values(ascending=False)\n",
    "    return au_corr"
   ]
  },
  {
   "cell_type": "code",
   "execution_count": null,
   "id": "0502935f",
   "metadata": {},
   "outputs": [],
   "source": [
    "# call function using white_wine\n",
    "correlations = get_correlations(white_wine_numeric)"
   ]
  },
  {
   "cell_type": "code",
   "execution_count": 94,
   "id": "39f06b91",
   "metadata": {},
   "outputs": [
    {
     "data": {
      "text/plain": [
       "residual_sugar        density                 0.838966\n",
       "density               alcohol                 0.780138\n",
       "free_sulfur_dioxide   total_sulfur_dioxide    0.615501\n",
       "total_sulfur_dioxide  density                 0.529881\n",
       "residual_sugar        alcohol                 0.450631\n",
       "total_sulfur_dioxide  alcohol                 0.448892\n",
       "alcohol               quality                 0.435575\n",
       "fixed_acidity         pH                      0.425858\n",
       "residual_sugar        total_sulfur_dioxide    0.401439\n",
       "chlorides             alcohol                 0.360189\n",
       "dtype: float64"
      ]
     },
     "execution_count": 94,
     "metadata": {},
     "output_type": "execute_result"
    }
   ],
   "source": [
    "# view top correlations\n",
    "correlations.head(10)"
   ]
  },
  {
   "cell_type": "markdown",
   "id": "f6243e6d",
   "metadata": {},
   "source": [
    "# Linear Regression Model"
   ]
  },
  {
   "cell_type": "markdown",
   "id": "b9921584",
   "metadata": {},
   "source": [
    "## Model A (single variable)"
   ]
  },
  {
   "cell_type": "markdown",
   "id": "d2554679",
   "metadata": {},
   "source": [
    "### Split dataset into training and test set"
   ]
  },
  {
   "cell_type": "code",
   "execution_count": 95,
   "id": "a28e5e4f",
   "metadata": {},
   "outputs": [],
   "source": [
    "# independent variable\n",
    "x = white_wine[['alcohol']]\n",
    "\n",
    "# depedent variable\n",
    "y = white_wine[['quality']]"
   ]
  },
  {
   "cell_type": "code",
   "execution_count": 96,
   "id": "b73e7885",
   "metadata": {},
   "outputs": [],
   "source": [
    "# split data into 80% training set and 20% testing set\n",
    "x_train, x_test, y_train, y_test = train_test_split(x, y, train_size = 0.8, test_size = 0.2, random_state=6)"
   ]
  },
  {
   "cell_type": "code",
   "execution_count": 97,
   "id": "99abe596",
   "metadata": {},
   "outputs": [
    {
     "name": "stdout",
     "output_type": "stream",
     "text": [
      "(3918, 1)\n",
      "(980, 1)\n",
      "(3918, 1)\n",
      "(980, 1)\n"
     ]
    }
   ],
   "source": [
    "print(x_train.shape)\n",
    "print(x_test.shape)\n",
    "print(y_train.shape)\n",
    "print(y_test.shape)"
   ]
  },
  {
   "cell_type": "markdown",
   "id": "b0b73ad8",
   "metadata": {},
   "source": [
    "### Create Linear Regression Model"
   ]
  },
  {
   "cell_type": "code",
   "execution_count": 98,
   "id": "db06b632",
   "metadata": {},
   "outputs": [],
   "source": [
    "# reshape X\n",
    "x = x.values.reshape(-1, 1)"
   ]
  },
  {
   "cell_type": "code",
   "execution_count": 99,
   "id": "5f64d328",
   "metadata": {},
   "outputs": [],
   "source": [
    "# create linear regression model\n",
    "regr = linear_model.LinearRegression()\n",
    "\n",
    "# fit model\n",
    "regr.fit(x_train,y_train)\n",
    "\n",
    "# predict y values\n",
    "y_predict = regr.predict(x_test)"
   ]
  },
  {
   "cell_type": "markdown",
   "id": "c2944bca",
   "metadata": {},
   "source": [
    "### Visualize results"
   ]
  },
  {
   "cell_type": "code",
   "execution_count": 100,
   "id": "7973932b",
   "metadata": {},
   "outputs": [
    {
     "data": {
      "text/plain": [
       "Text(0.5, 1.0, 'Alcohol v. Quality')"
      ]
     },
     "execution_count": 100,
     "metadata": {},
     "output_type": "execute_result"
    },
    {
     "data": {
      "image/png": "[encoded data removed]",
      "text/plain": [
       "<Figure size 432x288 with 1 Axes>"
      ]
     },
     "metadata": {
      "needs_background": "light"
     },
     "output_type": "display_data"
    }
   ],
   "source": [
    "plt.clf()\n",
    "plt.scatter(x,y,alpha=0.1)\n",
    "plt.plot(x_test, y_predict)\n",
    "plt.xlabel(\"Alcohol\")\n",
    "plt.ylabel(\"Quality\")\n",
    "plt.title(\"Alcohol v. Quality\")"
   ]
  },
  {
   "cell_type": "code",
   "execution_count": 101,
   "id": "96aa6ce7",
   "metadata": {},
   "outputs": [
    {
     "data": {
      "text/plain": [
       "Text(0.5, 1.0, 'Quality - actual v. predicted')"
      ]
     },
     "execution_count": 101,
     "metadata": {},
     "output_type": "execute_result"
    },
    {
     "data": {
      "image/png": "[encoded data removed]",
      "text/plain": [
       "<Figure size 432x288 with 1 Axes>"
      ]
     },
     "metadata": {
      "needs_background": "light"
     },
     "output_type": "display_data"
    }
   ],
   "source": [
    "plt.clf()\n",
    "plt.scatter(y_test,y_predict,alpha=0.1)\n",
    "plt.xlabel(\"Quality - actual\")\n",
    "plt.ylabel(\"Quality - predicted \")\n",
    "plt.title(\"Quality - actual v. predicted\")"
   ]
  },
  {
   "cell_type": "markdown",
   "id": "bac48905",
   "metadata": {},
   "source": [
    "### Evaluate accuracy of model"
   ]
  },
  {
   "cell_type": "code",
   "execution_count": 102,
   "id": "7378175b",
   "metadata": {},
   "outputs": [
    {
     "data": {
      "text/plain": [
       "0.18791255059496603"
      ]
     },
     "execution_count": 102,
     "metadata": {},
     "output_type": "execute_result"
    }
   ],
   "source": [
    "# find the mean squared error regression loss for the training test\n",
    "regr.score(x_train, y_train)"
   ]
  },
  {
   "cell_type": "code",
   "execution_count": 103,
   "id": "2cd8dc6f",
   "metadata": {},
   "outputs": [
    {
     "data": {
      "text/plain": [
       "0.19750758953783387"
      ]
     },
     "execution_count": 103,
     "metadata": {},
     "output_type": "execute_result"
    }
   ],
   "source": [
    "# find the mean squared error regression loss for the testing test\n",
    "regr.score(x_test, y_test)"
   ]
  },
  {
   "cell_type": "markdown",
   "id": "8323c7ea",
   "metadata": {},
   "source": [
    "## Model B (single variable)"
   ]
  },
  {
   "cell_type": "markdown",
   "id": "3d608663",
   "metadata": {},
   "source": [
    "### Split dataset into training and test set"
   ]
  },
  {
   "cell_type": "code",
   "execution_count": 104,
   "id": "84e49222",
   "metadata": {},
   "outputs": [],
   "source": [
    "# independent variable\n",
    "x = white_wine[['chlorides']]\n",
    "\n",
    "# depedent variable\n",
    "y = white_wine[['quality']]"
   ]
  },
  {
   "cell_type": "code",
   "execution_count": 105,
   "id": "b020122f",
   "metadata": {},
   "outputs": [],
   "source": [
    "# split data into 80% training set and 20% testing set\n",
    "x_train, x_test, y_train, y_test = train_test_split(x, y, train_size = 0.8, test_size = 0.2, random_state=6)"
   ]
  },
  {
   "cell_type": "code",
   "execution_count": 106,
   "id": "cf691c84",
   "metadata": {},
   "outputs": [
    {
     "name": "stdout",
     "output_type": "stream",
     "text": [
      "(3918, 1)\n",
      "(980, 1)\n",
      "(3918, 1)\n",
      "(980, 1)\n"
     ]
    }
   ],
   "source": [
    "print(x_train.shape)\n",
    "print(x_test.shape)\n",
    "print(y_train.shape)\n",
    "print(y_test.shape)"
   ]
  },
  {
   "cell_type": "markdown",
   "id": "f1b97570",
   "metadata": {},
   "source": [
    "### Create Linear Regression Model"
   ]
  },
  {
   "cell_type": "code",
   "execution_count": 107,
   "id": "f3bf5a1e",
   "metadata": {},
   "outputs": [],
   "source": [
    "# reshape X\n",
    "x = x.values.reshape(-1, 1)"
   ]
  },
  {
   "cell_type": "code",
   "execution_count": 108,
   "id": "290a2d81",
   "metadata": {},
   "outputs": [],
   "source": [
    "# create linear regression model\n",
    "regr = linear_model.LinearRegression()\n",
    "\n",
    "# fit model\n",
    "regr.fit(x_train,y_train)\n",
    "\n",
    "# predict y values\n",
    "y_predict = regr.predict(x_test)"
   ]
  },
  {
   "cell_type": "markdown",
   "id": "c8a8f9ca",
   "metadata": {},
   "source": [
    "### Visualize results"
   ]
  },
  {
   "cell_type": "code",
   "execution_count": 109,
   "id": "6085e60d",
   "metadata": {},
   "outputs": [
    {
     "data": {
      "text/plain": [
       "Text(0.5, 1.0, 'Chlorides v. Quality')"
      ]
     },
     "execution_count": 109,
     "metadata": {},
     "output_type": "execute_result"
    },
    {
     "data": {
      "image/png": "[encoded data removed]",
      "text/plain": [
       "<Figure size 432x288 with 1 Axes>"
      ]
     },
     "metadata": {
      "needs_background": "light"
     },
     "output_type": "display_data"
    }
   ],
   "source": [
    "plt.clf()\n",
    "plt.scatter(x,y,alpha=0.1)\n",
    "plt.plot(x_test, y_predict)\n",
    "plt.xlabel(\"Chlorides\")\n",
    "plt.ylabel(\"Quality\")\n",
    "plt.title(\"Chlorides v. Quality\")"
   ]
  },
  {
   "cell_type": "code",
   "execution_count": 110,
   "id": "2629e6f6",
   "metadata": {},
   "outputs": [
    {
     "data": {
      "text/plain": [
       "Text(0.5, 1.0, 'Quality - actual v. predicted')"
      ]
     },
     "execution_count": 110,
     "metadata": {},
     "output_type": "execute_result"
    },
    {
     "data": {
      "image/png": "[encoded data removed]",
      "text/plain": [
       "<Figure size 432x288 with 1 Axes>"
      ]
     },
     "metadata": {
      "needs_background": "light"
     },
     "output_type": "display_data"
    }
   ],
   "source": [
    "plt.clf()\n",
    "plt.scatter(y_test,y_predict,alpha=0.1)\n",
    "plt.xlabel(\"Quality - actual\")\n",
    "plt.ylabel(\"Quality - predicted \")\n",
    "plt.title(\"Quality - actual v. predicted\")"
   ]
  },
  {
   "cell_type": "markdown",
   "id": "c83ea24e",
   "metadata": {},
   "source": [
    "### Evaluate accuracy of model"
   ]
  },
  {
   "cell_type": "code",
   "execution_count": 111,
   "id": "179a4147",
   "metadata": {},
   "outputs": [
    {
     "data": {
      "text/plain": [
       "0.04243513354457562"
      ]
     },
     "execution_count": 111,
     "metadata": {},
     "output_type": "execute_result"
    }
   ],
   "source": [
    "# find the mean squared error regression loss for the training test\n",
    "regr.score(x_train, y_train)"
   ]
  },
  {
   "cell_type": "code",
   "execution_count": 112,
   "id": "b214ff27",
   "metadata": {},
   "outputs": [
    {
     "data": {
      "text/plain": [
       "0.05106595192426666"
      ]
     },
     "execution_count": 112,
     "metadata": {},
     "output_type": "execute_result"
    }
   ],
   "source": [
    "# find the mean squared error regression loss for the testing test\n",
    "regr.score(x_test, y_test)"
   ]
  },
  {
   "cell_type": "markdown",
   "id": "fc0b365d",
   "metadata": {},
   "source": [
    "## Model C (multi-variate)"
   ]
  },
  {
   "cell_type": "markdown",
   "id": "1985c990",
   "metadata": {},
   "source": [
    "### Split dataset into training and test set"
   ]
  },
  {
   "cell_type": "code",
   "execution_count": 122,
   "id": "4ed2b388",
   "metadata": {},
   "outputs": [],
   "source": [
    "# independent variable\n",
    "x = white_wine[['fixed_acidity',\n",
    "                'volatile_acidity',\n",
    "                'citric_acid',\n",
    "                'residual_sugar',\n",
    "                'chlorides',\n",
    "                'free_sulfur_dioxide',\n",
    "                'total_sulfur_dioxide',\n",
    "                'density',\n",
    "                'pH',\n",
    "                'sulphates',\n",
    "                'alcohol']]\n",
    "\n",
    "# depedent variable\n",
    "y = white_wine[['quality']]"
   ]
  },
  {
   "cell_type": "code",
   "execution_count": 123,
   "id": "c676815e",
   "metadata": {},
   "outputs": [],
   "source": [
    "# split data into 80% training set and 20% testing set\n",
    "x_train, x_test, y_train, y_test = train_test_split(x, y, train_size = 0.8, test_size = 0.2, random_state=6)"
   ]
  },
  {
   "cell_type": "code",
   "execution_count": 124,
   "id": "842695bf",
   "metadata": {},
   "outputs": [
    {
     "name": "stdout",
     "output_type": "stream",
     "text": [
      "(3918, 11)\n",
      "(980, 11)\n",
      "(3918, 1)\n",
      "(980, 1)\n"
     ]
    }
   ],
   "source": [
    "print(x_train.shape)\n",
    "print(x_test.shape)\n",
    "print(y_train.shape)\n",
    "print(y_test.shape)"
   ]
  },
  {
   "cell_type": "markdown",
   "id": "35da5444",
   "metadata": {},
   "source": [
    "### Create Linear Regression Model"
   ]
  },
  {
   "cell_type": "code",
   "execution_count": 125,
   "id": "4f294e78",
   "metadata": {},
   "outputs": [],
   "source": [
    "# create linear regression model\n",
    "regr = linear_model.LinearRegression()\n",
    "\n",
    "# fit model\n",
    "regr.fit(x_train,y_train)\n",
    "\n",
    "# predict y values\n",
    "y_predict = regr.predict(x_test)"
   ]
  },
  {
   "cell_type": "code",
   "execution_count": 126,
   "id": "734e25f4",
   "metadata": {
    "scrolled": true
   },
   "outputs": [
    {
     "name": "stdout",
     "output_type": "stream",
     "text": [
      "[[ 1.04463229e-01 -1.88974036e+00  6.62061331e-02  1.04372235e-01\n",
      "   4.14584364e-02  2.90644086e-03  3.02256440e-04 -2.13778478e+02\n",
      "   8.34236563e-01  6.67038175e-01  1.24570990e-01]]\n"
     ]
    }
   ],
   "source": [
    "# print mlr coefficients\n",
    "print(regr.coef_)"
   ]
  },
  {
   "cell_type": "markdown",
   "id": "b8761820",
   "metadata": {},
   "source": [
    "### Compare model results to actual results"
   ]
  },
  {
   "cell_type": "code",
   "execution_count": 127,
   "id": "1c923d02",
   "metadata": {},
   "outputs": [],
   "source": [
    "# define characteristics\n",
    "#player_a = [[42, 66]]\n",
    "#predict = regr.predict(player_a)\n",
    "#print('Predicted winnings %.2f' % predict)\n",
    "#print('Actual winnings: $201,163')"
   ]
  },
  {
   "cell_type": "code",
   "execution_count": 128,
   "id": "9baf58b1",
   "metadata": {},
   "outputs": [
    {
     "data": {
      "text/plain": [
       "Text(0.5, 1.0, 'actual quality v. predicted quality')"
      ]
     },
     "execution_count": 128,
     "metadata": {},
     "output_type": "execute_result"
    },
    {
     "data": {
      "image/png": "[encoded data removed]",
      "text/plain": [
       "<Figure size 432x288 with 1 Axes>"
      ]
     },
     "metadata": {
      "needs_background": "light"
     },
     "output_type": "display_data"
    }
   ],
   "source": [
    "plt.clf()\n",
    "plt.scatter(y_test,y_predict,alpha=0.4)\n",
    "plt.xlabel(\"actual quality\")\n",
    "plt.ylabel(\"predicted quality\")\n",
    "plt.title(\"actual quality v. predicted quality\")"
   ]
  },
  {
   "cell_type": "markdown",
   "id": "7f89cbc7",
   "metadata": {},
   "source": [
    "### Evaluate accuracy of the model"
   ]
  },
  {
   "cell_type": "code",
   "execution_count": 129,
   "id": "c5057d77",
   "metadata": {},
   "outputs": [
    {
     "data": {
      "text/plain": [
       "0.28442901373628315"
      ]
     },
     "execution_count": 129,
     "metadata": {},
     "output_type": "execute_result"
    }
   ],
   "source": [
    "# find the mean squared error regression loss for the training test\n",
    "regr.score(x_train, y_train)"
   ]
  },
  {
   "cell_type": "code",
   "execution_count": 130,
   "id": "33e8d85a",
   "metadata": {},
   "outputs": [
    {
     "data": {
      "text/plain": [
       "0.2604911448919994"
      ]
     },
     "execution_count": 130,
     "metadata": {},
     "output_type": "execute_result"
    }
   ],
   "source": [
    "# find the mean squared error regression loss for the testing test\n",
    "regr.score(x_test, y_test)"
   ]
  },
  {
   "cell_type": "markdown",
   "id": "ba134966",
   "metadata": {},
   "source": [
    "## Model D (multi-variate)"
   ]
  },
  {
   "cell_type": "markdown",
   "id": "9bbc52e0",
   "metadata": {},
   "source": [
    "### Split dataset into training and test set"
   ]
  },
  {
   "cell_type": "code",
   "execution_count": 131,
   "id": "4cbf571e",
   "metadata": {},
   "outputs": [],
   "source": [
    "# independent variable\n",
    "x = white_wine[['pH',\n",
    "                'sulphates',\n",
    "                'alcohol']]\n",
    "\n",
    "# depedent variable\n",
    "y = white_wine[['quality']]"
   ]
  },
  {
   "cell_type": "code",
   "execution_count": 132,
   "id": "72c96ad7",
   "metadata": {},
   "outputs": [],
   "source": [
    "# split data into 80% training set and 20% testing set\n",
    "x_train, x_test, y_train, y_test = train_test_split(x, y, train_size = 0.8, test_size = 0.2, random_state=6)"
   ]
  },
  {
   "cell_type": "code",
   "execution_count": 133,
   "id": "11852cbb",
   "metadata": {},
   "outputs": [
    {
     "name": "stdout",
     "output_type": "stream",
     "text": [
      "(3918, 3)\n",
      "(980, 3)\n",
      "(3918, 1)\n",
      "(980, 1)\n"
     ]
    }
   ],
   "source": [
    "print(x_train.shape)\n",
    "print(x_test.shape)\n",
    "print(y_train.shape)\n",
    "print(y_test.shape)"
   ]
  },
  {
   "cell_type": "markdown",
   "id": "5c7a4c8b",
   "metadata": {},
   "source": [
    "### Create Linear Regression Model"
   ]
  },
  {
   "cell_type": "code",
   "execution_count": 134,
   "id": "abf6c831",
   "metadata": {},
   "outputs": [],
   "source": [
    "# create linear regression model\n",
    "regr = linear_model.LinearRegression()\n",
    "\n",
    "# fit model\n",
    "regr.fit(x_train,y_train)\n",
    "\n",
    "# predict y values\n",
    "y_predict = regr.predict(x_test)"
   ]
  },
  {
   "cell_type": "code",
   "execution_count": 135,
   "id": "199e215f",
   "metadata": {
    "scrolled": true
   },
   "outputs": [
    {
     "name": "stdout",
     "output_type": "stream",
     "text": [
      "[[0.15996858 0.42469522 0.31269863]]\n"
     ]
    }
   ],
   "source": [
    "# print mlr coefficients\n",
    "print(regr.coef_)"
   ]
  },
  {
   "cell_type": "markdown",
   "id": "6cd20b60",
   "metadata": {},
   "source": [
    "### Compare model results to actual results"
   ]
  },
  {
   "cell_type": "code",
   "execution_count": 136,
   "id": "63516cfb",
   "metadata": {},
   "outputs": [],
   "source": [
    "# define characteristics\n",
    "#player_a = [[42, 66]]\n",
    "#predict = regr.predict(player_a)\n",
    "#print('Predicted winnings %.2f' % predict)\n",
    "#print('Actual winnings: $201,163')"
   ]
  },
  {
   "cell_type": "code",
   "execution_count": 137,
   "id": "7bd4b243",
   "metadata": {},
   "outputs": [
    {
     "data": {
      "text/plain": [
       "Text(0.5, 1.0, 'actual quality v. predicted quality')"
      ]
     },
     "execution_count": 137,
     "metadata": {},
     "output_type": "execute_result"
    },
    {
     "data": {
      "image/png": "[encoded data removed]",
      "text/plain": [
       "<Figure size 432x288 with 1 Axes>"
      ]
     },
     "metadata": {
      "needs_background": "light"
     },
     "output_type": "display_data"
    }
   ],
   "source": [
    "plt.clf()\n",
    "plt.scatter(y_test,y_predict,alpha=0.4)\n",
    "plt.xlabel(\"actual quality\")\n",
    "plt.ylabel(\"predicted quality\")\n",
    "plt.title(\"actual quality v. predicted quality\")"
   ]
  },
  {
   "cell_type": "markdown",
   "id": "7a5482dd",
   "metadata": {},
   "source": [
    "### Evaluate accuracy of the model"
   ]
  },
  {
   "cell_type": "code",
   "execution_count": 138,
   "id": "9fe99f99",
   "metadata": {},
   "outputs": [
    {
     "data": {
      "text/plain": [
       "0.19209861962673913"
      ]
     },
     "execution_count": 138,
     "metadata": {},
     "output_type": "execute_result"
    }
   ],
   "source": [
    "# find the mean squared error regression loss for the training test\n",
    "regr.score(x_train, y_train)"
   ]
  },
  {
   "cell_type": "code",
   "execution_count": 139,
   "id": "90fdf9ed",
   "metadata": {},
   "outputs": [
    {
     "data": {
      "text/plain": [
       "0.20627503062320918"
      ]
     },
     "execution_count": 139,
     "metadata": {},
     "output_type": "execute_result"
    }
   ],
   "source": [
    "# find the mean squared error regression loss for the testing test\n",
    "regr.score(x_test, y_test)"
   ]
  }
 ],
 "metadata": {
  "kernelspec": {
   "display_name": "Python 3 (ipykernel)",
   "language": "python",
   "name": "python3"
  },
  "language_info": {
   "codemirror_mode": {
    "name": "ipython",
    "version": 3
   },
   "file_extension": ".py",
   "mimetype": "text/x-python",
   "name": "python",
   "nbconvert_exporter": "python",
   "pygments_lexer": "ipython3",
   "version": "3.9.5"
  }
 },
 "nbformat": 4,
 "nbformat_minor": 5
}
